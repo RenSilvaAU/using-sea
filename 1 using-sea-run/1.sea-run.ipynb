{
 "cells": [
  {
   "cell_type": "markdown",
   "metadata": {},
   "source": [
    "# Install package\n",
    "\n",
    "Install package by running: \n",
    "\n",
    "```bash\n",
    "%pip install https://github.com/RenSilvaAU/using-sea/releases/download/v0.01/speech_experiment_accelerator-0.1.0-py3-none-any.whl\n",
    "```"
   ]
  },
  {
   "cell_type": "code",
   "execution_count": null,
   "metadata": {},
   "outputs": [],
   "source": [
    "%pip install https://github.com/RenSilvaAU/using-sea/releases/download/v0.01/speech_experiment_accelerator-0.1.0-py3-none-any.whl"
   ]
  },
  {
   "cell_type": "markdown",
   "metadata": {},
   "source": [
    "# Using SEA\n",
    "\n",
    "Import package\n",
    "\n",
    "***NB ->*** if for some reason this fails, reload the kernel"
   ]
  },
  {
   "cell_type": "code",
   "execution_count": null,
   "metadata": {},
   "outputs": [],
   "source": [
    "import speech_experiment_accelerator as sea"
   ]
  },
  {
   "cell_type": "markdown",
   "metadata": {},
   "source": [
    "# Command line\n",
    "\n",
    "1. Create the following config file:\n",
    "\n",
    "    - `config.yaml` - You can copy the file `config.example.yaml` onto `config.yaml` and make your changes\n",
    "\n",
    "2. Transcription data asset\n",
    "\n",
    "    You need a data asset in your workspace with the folowing:\n",
    "\n",
    "    ```bash\n",
    "    <afile>.wav # a wav file to be transcribed\n",
    "    <afile>.txt # the transcrption of that file\n",
    "    <another-file>.wav # a wav file to be transcribed\n",
    "    <anoter-file>.txt # the transcrption of that file\n",
    "\n",
    "    ... as many files as you need, as long as the .wav contains the audio, and the .txt file contains its ground-truth transcription\n",
    "    ```\n",
    "\n",
    "2. run command:\n",
    "    ```bash\n",
    "    !see run\n",
    "    ```"
   ]
  },
  {
   "cell_type": "code",
   "execution_count": null,
   "metadata": {},
   "outputs": [],
   "source": [
    "!sea run"
   ]
  },
  {
   "cell_type": "markdown",
   "metadata": {},
   "source": [
    "# Run job\n",
    "\n",
    "use command\n",
    "```bash\n",
    "!see job   # NB -> this is not running at the moment\n",
    "\n"
   ]
  },
  {
   "cell_type": "code",
   "execution_count": null,
   "metadata": {},
   "outputs": [],
   "source": [
    "!sea job \n",
    "\n"
   ]
  },
  {
   "cell_type": "markdown",
   "metadata": {},
   "source": [
    "# Create a job from the notebook itself"
   ]
  },
  {
   "cell_type": "code",
   "execution_count": null,
   "metadata": {},
   "outputs": [],
   "source": [
    "from azure.ai.ml import MLClient, command, Input, Output\n",
    "from azure.ai.ml.constants import AssetTypes, InputOutputModes\n",
    "from azure.identity import DefaultAzureCredential\n",
    "\n",
    "ml_client = MLClient.from_config(credential=DefaultAzureCredential())\n",
    "\n",
    "JOB_DISPLAY_NAME = \"LocalWhistper\"\n",
    "JOB_DESCRIPTION = \"Transcription in batch using base model, English only. saving top folder\"\n",
    "EXPERIMENT_NAME = \"SpeechExperimentAccelerator\"\n",
    "\n",
    "\n",
    "# to successfully create a job, customize the parameters below based on your workspace resources\n",
    "job = command(\n",
    "        code=\".\",  # local path where the code is stored\n",
    "        command=\"pip install https://github.com/RenSilvaAU/using-sea/releases/download/v0.01/speech_experiment_accelerator-0.1.0-py3-none-any.whl && \\\n",
    "                 sea run \",\n",
    "        environment= \"AzureML-AI-Studio-Development@latest\", ## AzureML-sklearn-1.0-ubuntu20.04-py38-cpu@latest\",\n",
    "        display_name=JOB_DISPLAY_NAME,\n",
    "        experiment_name=EXPERIMENT_NAME,\n",
    "        description=JOB_DESCRIPTION\n",
    "      )\n",
    "\n",
    "returned_job = ml_client.jobs.create_or_update(job)"
   ]
  }
 ],
 "metadata": {
  "kernelspec": {
   "display_name": "Python 3",
   "language": "python",
   "name": "python3"
  },
  "language_info": {
   "codemirror_mode": {
    "name": "ipython",
    "version": 3
   },
   "file_extension": ".py",
   "mimetype": "text/x-python",
   "name": "python",
   "nbconvert_exporter": "python",
   "pygments_lexer": "ipython3",
   "version": "3.10.14"
  }
 },
 "nbformat": 4,
 "nbformat_minor": 2
}
